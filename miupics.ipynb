{
 "cells": [
  {
   "cell_type": "code",
   "execution_count": 1,
   "id": "59f98927-e8dd-4ce5-9393-66eda176ea0c",
   "metadata": {
    "execution": {
     "iopub.execute_input": "2024-05-24T16:25:50.707810Z",
     "iopub.status.busy": "2024-05-24T16:25:50.706377Z",
     "iopub.status.idle": "2024-05-24T16:26:51.656969Z",
     "shell.execute_reply": "2024-05-24T16:26:51.655827Z",
     "shell.execute_reply.started": "2024-05-24T16:25:50.707749Z"
    }
   },
   "outputs": [
    {
     "name": "stdout",
     "output_type": "stream",
     "text": [
      "Defaulting to user installation because normal site-packages is not writeable\n",
      "Requirement already satisfied: rembg in /home/jupyter/.local/lib/python3.10/site-packages (2.0.54)\n",
      "Requirement already satisfied: jsonschema in /usr/local/lib/python3.10/dist-packages (from rembg) (4.3.3)\n",
      "Requirement already satisfied: numpy in /usr/local/lib/python3.10/dist-packages (from rembg) (1.22.4)\n",
      "Requirement already satisfied: onnxruntime in /home/jupyter/.local/lib/python3.10/site-packages (from rembg) (1.18.0)\n",
      "Requirement already satisfied: opencv-python-headless in /usr/local/lib/python3.10/dist-packages (from rembg) (4.8.0.74)\n",
      "Requirement already satisfied: pillow in /usr/local/lib/python3.10/dist-packages (from rembg) (9.4.0)\n",
      "Requirement already satisfied: pooch in /usr/local/lib/python3.10/dist-packages (from rembg) (1.6.0)\n",
      "Requirement already satisfied: pymatting in /home/jupyter/.local/lib/python3.10/site-packages (from rembg) (1.1.12)\n",
      "Requirement already satisfied: scikit-image in /usr/local/lib/python3.10/dist-packages (from rembg) (0.19.3)\n",
      "Requirement already satisfied: scipy in /usr/local/lib/python3.10/dist-packages (from rembg) (1.10.1)\n",
      "Requirement already satisfied: tqdm in /usr/local/lib/python3.10/dist-packages (from rembg) (4.65.0)\n",
      "Requirement already satisfied: attrs>=17.4.0 in /usr/local/lib/python3.10/dist-packages (from jsonschema->rembg) (23.1.0)\n",
      "Requirement already satisfied: pyrsistent!=0.17.0,!=0.17.1,!=0.17.2,>=0.14.0 in /usr/local/lib/python3.10/dist-packages (from jsonschema->rembg) (0.19.3)\n",
      "Requirement already satisfied: coloredlogs in /home/jupyter/.local/lib/python3.10/site-packages (from onnxruntime->rembg) (15.0.1)\n",
      "Requirement already satisfied: flatbuffers in /usr/local/lib/python3.10/dist-packages (from onnxruntime->rembg) (23.5.26)\n",
      "Requirement already satisfied: packaging in /usr/local/lib/python3.10/dist-packages (from onnxruntime->rembg) (23.1)\n",
      "Requirement already satisfied: protobuf in /usr/local/lib/python3.10/dist-packages (from onnxruntime->rembg) (3.20.3)\n",
      "Requirement already satisfied: sympy in /usr/local/lib/python3.10/dist-packages (from onnxruntime->rembg) (1.11.1)\n",
      "Requirement already satisfied: appdirs>=1.3.0 in /usr/local/lib/python3.10/dist-packages (from pooch->rembg) (1.4.4)\n",
      "Requirement already satisfied: requests>=2.19.0 in /home/jupyter/.local/lib/python3.10/site-packages (from pooch->rembg) (2.32.2)\n",
      "Requirement already satisfied: numba!=0.49.0 in /usr/local/lib/python3.10/dist-packages (from pymatting->rembg) (0.56.4)\n",
      "Requirement already satisfied: networkx>=2.2 in /usr/local/lib/python3.10/dist-packages (from scikit-image->rembg) (3.1)\n",
      "Requirement already satisfied: imageio>=2.4.1 in /usr/local/lib/python3.10/dist-packages (from scikit-image->rembg) (2.25.1)\n",
      "Requirement already satisfied: tifffile>=2019.7.26 in /usr/local/lib/python3.10/dist-packages (from scikit-image->rembg) (2023.7.18)\n",
      "Requirement already satisfied: PyWavelets>=1.1.1 in /usr/local/lib/python3.10/dist-packages (from scikit-image->rembg) (1.4.1)\n",
      "Requirement already satisfied: llvmlite<0.40,>=0.39.0dev0 in /usr/local/lib/python3.10/dist-packages (from numba!=0.49.0->pymatting->rembg) (0.39.1)\n",
      "Requirement already satisfied: setuptools in /kernel/lib/python3.10/site-packages (from numba!=0.49.0->pymatting->rembg) (65.5.0)\n",
      "Requirement already satisfied: charset-normalizer<4,>=2 in /usr/local/lib/python3.10/dist-packages (from requests>=2.19.0->pooch->rembg) (2.0.12)\n",
      "Requirement already satisfied: idna<4,>=2.5 in /usr/local/lib/python3.10/dist-packages (from requests>=2.19.0->pooch->rembg) (3.4)\n",
      "Requirement already satisfied: urllib3<3,>=1.21.1 in /home/jupyter/.local/lib/python3.10/site-packages (from requests>=2.19.0->pooch->rembg) (2.2.1)\n",
      "Requirement already satisfied: certifi>=2017.4.17 in /usr/local/lib/python3.10/dist-packages (from requests>=2.19.0->pooch->rembg) (2023.7.22)\n",
      "Requirement already satisfied: humanfriendly>=9.1 in /home/jupyter/.local/lib/python3.10/site-packages (from coloredlogs->onnxruntime->rembg) (10.0)\n",
      "Requirement already satisfied: mpmath>=0.19 in /usr/local/lib/python3.10/dist-packages (from sympy->onnxruntime->rembg) (1.3.0)\n",
      "\n",
      "\u001b[1m[\u001b[0m\u001b[34;49mnotice\u001b[0m\u001b[1;39;49m]\u001b[0m\u001b[39;49m A new release of pip is available: \u001b[0m\u001b[31;49m23.0.1\u001b[0m\u001b[39;49m -> \u001b[0m\u001b[32;49m24.0\u001b[0m\n",
      "\u001b[1m[\u001b[0m\u001b[34;49mnotice\u001b[0m\u001b[1;39;49m]\u001b[0m\u001b[39;49m To update, run: \u001b[0m\u001b[32;49mpython3 -m pip install --upgrade pip\u001b[0m\n"
     ]
    }
   ],
   "source": [
    "%pip install rembg\n",
    "import rembg"
   ]
  },
  {
   "cell_type": "code",
   "execution_count": 2,
   "id": "2e5a6352-f851-45aa-a8f7-e06b0d00925f",
   "metadata": {
    "execution": {
     "iopub.execute_input": "2024-05-24T16:27:34.148863Z",
     "iopub.status.busy": "2024-05-24T16:27:34.147506Z",
     "iopub.status.idle": "2024-05-24T16:27:34.165305Z",
     "shell.execute_reply": "2024-05-24T16:27:34.164077Z",
     "shell.execute_reply.started": "2024-05-24T16:27:34.148828Z"
    }
   },
   "outputs": [],
   "source": [
    "import json\n",
    "import time\n",
    "import base64\n",
    "import requests\n",
    "from rembg import remove"
   ]
  },
  {
   "cell_type": "code",
   "execution_count": 3,
   "id": "659f781a-933c-4a2c-9910-f19ad740fc67",
   "metadata": {
    "execution": {
     "iopub.execute_input": "2024-05-24T16:27:49.654949Z",
     "iopub.status.busy": "2024-05-24T16:27:49.654165Z",
     "iopub.status.idle": "2024-05-24T16:27:49.675610Z",
     "shell.execute_reply": "2024-05-24T16:27:49.674511Z",
     "shell.execute_reply.started": "2024-05-24T16:27:49.654899Z"
    }
   },
   "outputs": [],
   "source": [
    "class Text2ImageAPI:\n",
    "\n",
    "    def __init__(self, url, api_key, secret_key):\n",
    "        self.URL = url\n",
    "        self.AUTH_HEADERS = {\n",
    "            'X-Key': f'Key {api_key}',\n",
    "            'X-Secret': f'Secret {secret_key}',\n",
    "        }\n",
    "\n",
    "    def get_model(self):\n",
    "        response = requests.get(self.URL + 'key/api/v1/models', headers=self.AUTH_HEADERS)\n",
    "        data = response.json()\n",
    "        return data[0]['id']\n",
    "\n",
    "    def generate(self, prompt, model, images=1, width=1024, height=1024):\n",
    "        params = {\n",
    "            \"type\": \"GENERATE\",\n",
    "            \"numImages\": images,\n",
    "            \"width\": width,\n",
    "            \"height\": height,\n",
    "            \"generateParams\": {\n",
    "                \"query\": f\"{prompt}\"\n",
    "            }\n",
    "        }\n",
    "\n",
    "        data = {\n",
    "            'model_id': (None, model),\n",
    "            'params': (None, json.dumps(params), 'application/json')\n",
    "        }\n",
    "        response = requests.post(self.URL + 'key/api/v1/text2image/run', headers=self.AUTH_HEADERS, files=data)\n",
    "        data = response.json()\n",
    "        return data['uuid']\n",
    "\n",
    "    def check_generation(self, request_id, attempts=10, delay=10):\n",
    "        while attempts > 0:\n",
    "            response = requests.get(self.URL + 'key/api/v1/text2image/status/' + request_id, headers=self.AUTH_HEADERS)\n",
    "            data = response.json()\n",
    "            if data['status'] == 'DONE':\n",
    "                return data['images']\n",
    "\n",
    "            attempts -= 1\n",
    "            time.sleep(delay)"
   ]
  },
  {
   "cell_type": "code",
   "execution_count": 5,
   "id": "2a0ed46c-1892-4059-bde8-232ce820dd59",
   "metadata": {
    "execution": {
     "iopub.execute_input": "2024-05-24T16:31:19.301844Z",
     "iopub.status.busy": "2024-05-24T16:31:19.300342Z",
     "iopub.status.idle": "2024-05-24T16:31:59.167686Z",
     "shell.execute_reply": "2024-05-24T16:31:59.166516Z",
     "shell.execute_reply.started": "2024-05-24T16:31:19.301797Z"
    },
    "tags": []
   },
   "outputs": [
    {
     "name": "stdin",
     "output_type": "stream",
     "text": [
      " рыжий кот стикер на черном фоне\n"
     ]
    }
   ],
   "source": [
    "if __name__ == '__main__':\n",
    "    api = Text2ImageAPI('https://api-key.fusionbrain.ai/', '09C4B8B6427542CBF80BDD74D493DEEA', '27B92ACCAF8ED0F87644593223E11A06')\n",
    "    model_id = api.get_model()\n",
    "    prompt = input(\"\")\n",
    "    uuid = api.generate(prompt, model_id)\n",
    "    images = api.check_generation(uuid)\n",
    "    image_base64 = images[0]\n",
    "    # Декодируем строку base64 в бинарные данные\n",
    "    image_data = base64.b64decode(image_base64)\n",
    "    # Открываем файл для записи бинарных данных изображения\n",
    "    with open(\"image.jpg\", \"wb\") as file:\n",
    "        file.write(image_data)"
   ]
  },
  {
   "cell_type": "code",
   "execution_count": null,
   "id": "8c10f2f3-2e2c-4810-a948-33447832aa1f",
   "metadata": {},
   "outputs": [],
   "source": [
    "from PIL import Image"
   ]
  },
  {
   "cell_type": "code",
   "execution_count": null,
   "id": "47961e88-41d9-4937-93cf-5a9c0096e60f",
   "metadata": {},
   "outputs": [],
   "source": [
    "input_path = 'image.jpg'\n",
    "output_path = 'output_1.png'\n",
    "input = Image.open(input_path)\n",
    "output = remove(input)\n",
    "output.save(output_path)"
   ]
  },
  {
   "cell_type": "code",
   "execution_count": 10,
   "id": "58ed51ca-4eb5-4bae-ab62-7986e578111e",
   "metadata": {
    "execution": {
     "iopub.execute_input": "2024-05-24T16:37:44.955360Z",
     "iopub.status.busy": "2024-05-24T16:37:44.954008Z",
     "iopub.status.idle": "2024-05-24T16:37:44.987751Z",
     "shell.execute_reply": "2024-05-24T16:37:44.986666Z",
     "shell.execute_reply.started": "2024-05-24T16:37:44.955308Z"
    },
    "tags": []
   },
   "outputs": [
    {
     "name": "stderr",
     "output_type": "stream",
     "text": [
      "sh: 1: output_1.png: not found\n"
     ]
    },
    {
     "data": {
      "text/plain": [
       "32512"
      ]
     },
     "execution_count": 10,
     "metadata": {},
     "output_type": "execute_result"
    }
   ],
   "source": [
    "import os\n",
    "os.system(\"output_1.png\")"
   ]
  },
  {
   "cell_type": "code",
   "execution_count": null,
   "id": "ffb5a7c5-2191-40eb-bf01-8e8aee2e3e68",
   "metadata": {},
   "outputs": [],
   "source": []
  }
 ],
 "metadata": {
  "kernelspec": {
   "display_name": "DataSphere Kernel",
   "language": "python",
   "name": "python3"
  },
  "language_info": {
   "name": ""
  }
 },
 "nbformat": 4,
 "nbformat_minor": 5
}
